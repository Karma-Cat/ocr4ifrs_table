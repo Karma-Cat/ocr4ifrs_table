{
 "cells": [
  {
   "cell_type": "code",
   "execution_count": 81,
   "id": "eca86630",
   "metadata": {},
   "outputs": [
    {
     "name": "stdout",
     "output_type": "stream",
     "text": [
      "./ifrs_gazprom/BH3.pdf\r\n",
      "./ifrs_gazprom/BH3-000.png\r\n",
      "./ifrs_gazprom/BH3-001.png\r\n",
      "./ifrs_gazprom/BH3-002.png\r\n",
      "./ifrs_gazprom/BH3-003.png\r\n",
      "./ifrs_gazprom/BH3-004.png\r\n",
      "./ifrs_gazprom/BH3-005.png\r\n",
      "./ifrs_gazprom/BH3-006.png\r\n",
      "\r\n"
     ]
    }
   ],
   "source": [
    "!python3 -m table_ocr.pdf_to_images ./ifrs_gazprom/BH3.pdf"
   ]
  },
  {
   "cell_type": "code",
   "execution_count": 1,
   "id": "ce1c896a",
   "metadata": {},
   "outputs": [],
   "source": [
    "import table_ocr.demo\n",
    "from pdf2image import convert_from_path"
   ]
  },
  {
   "cell_type": "code",
   "execution_count": 2,
   "id": "90caaea5",
   "metadata": {},
   "outputs": [],
   "source": [
    "import cv2"
   ]
  },
  {
   "cell_type": "code",
   "execution_count": 6,
   "id": "e5d03241",
   "metadata": {},
   "outputs": [],
   "source": [
    "images = convert_from_path(\"ifrs_gazprom/BH.pdf\")"
   ]
  },
  {
   "cell_type": "code",
   "execution_count": 10,
   "id": "6d92c48d",
   "metadata": {},
   "outputs": [
    {
     "ename": "error",
     "evalue": "OpenCV(4.8.0) :-1: error: (-5:Bad argument) in function 'cvtColor'\n> Overload resolution failed:\n>  - src is not a numpy array, neither a scalar\n>  - Expected Ptr<cv::UMat> for argument 'src'\n",
     "output_type": "error",
     "traceback": [
      "\u001b[0;31m---------------------------------------------------------------------------\u001b[0m",
      "\u001b[0;31merror\u001b[0m                                     Traceback (most recent call last)",
      "\u001b[0;32m<ipython-input-10-6c7a7fe11b6d>\u001b[0m in \u001b[0;36m<module>\u001b[0;34m\u001b[0m\n\u001b[0;32m----> 1\u001b[0;31m \u001b[0mimage\u001b[0m \u001b[0;34m=\u001b[0m \u001b[0mcv2\u001b[0m\u001b[0;34m.\u001b[0m\u001b[0mcvtColor\u001b[0m\u001b[0;34m(\u001b[0m\u001b[0mimages\u001b[0m\u001b[0;34m[\u001b[0m\u001b[0;36m0\u001b[0m\u001b[0;34m]\u001b[0m\u001b[0;34m,\u001b[0m \u001b[0mcv2\u001b[0m\u001b[0;34m.\u001b[0m\u001b[0mCOLOR_BGR2GRAY\u001b[0m\u001b[0;34m)\u001b[0m\u001b[0;34m\u001b[0m\u001b[0;34m\u001b[0m\u001b[0m\n\u001b[0m",
      "\u001b[0;31merror\u001b[0m: OpenCV(4.8.0) :-1: error: (-5:Bad argument) in function 'cvtColor'\n> Overload resolution failed:\n>  - src is not a numpy array, neither a scalar\n>  - Expected Ptr<cv::UMat> for argument 'src'\n"
     ]
    }
   ],
   "source": [
    "image = cv2.cvtColor(images[0], cv2.COLOR_BGR2GRAY)"
   ]
  },
  {
   "cell_type": "code",
   "execution_count": 31,
   "id": "6de3a441",
   "metadata": {},
   "outputs": [],
   "source": [
    "import re"
   ]
  },
  {
   "cell_type": "code",
   "execution_count": 83,
   "id": "1c26ec87",
   "metadata": {},
   "outputs": [],
   "source": [
    "def row_cleaner(row):\n",
    "    res = re.findall(\"\\,{0,1}\\ {0,1}([0-9]{2,5}\\ {0,1}\\,.*)\", row)\n",
    "    if res:\n",
    "        return res[0]\n",
    "    else:\n",
    "        return \"\"\n",
    "    \n",
    "def csv_cleaner(text):\n",
    "    spis = text.split(\"\\r\\n\")\n",
    "    clean_spis = [row_cleaner(x) for x in spis]\n",
    "    res = [i.split(',') for i in clean_spis if i]\n",
    "    return res\n",
    "\n",
    "def int_converter(res):\n",
    "\n",
    "    for i in range(len(res)):\n",
    "        for j in range(len(res[i])): \n",
    "            res[i][j] = res[i][j].replace(\" \", \"\")\n",
    "            res[i][j] = res[i][j].replace(\"-\", \"\")\n",
    "            if all(char in res[i][j] for char in [\"(\", \")\"]):\n",
    "                res[i][j] = res[i][j].replace(\"(\", \"\")\n",
    "                res[i][j] = res[i][j].replace(\")\", \"\")\n",
    "                res[i][j] = \"-\" + res[i][j]\n",
    "            res[i][j] = re.sub(r'[^0-9\\-]', '', res[i][j])\n",
    "            if res[i][j]:\n",
    "                res[i][j] = int(res[i][j])\n",
    "\n",
    "    return res           "
   ]
  },
  {
   "cell_type": "code",
   "execution_count": 59,
   "id": "138bc244",
   "metadata": {},
   "outputs": [
    {
     "data": {
      "text/plain": [
       "'dlddlldldd;'"
      ]
     },
     "execution_count": 59,
     "metadata": {},
     "output_type": "execute_result"
    }
   ],
   "source": [
    "\"dld dlld ld d;   \".replace(\" \", \"\")"
   ]
  },
  {
   "cell_type": "code",
   "execution_count": 99,
   "id": "97b32d48",
   "metadata": {},
   "outputs": [
    {
     "name": "stdout",
     "output_type": "stream",
     "text": [
      "Running `extract_tables.main([ifrs_gazprom/BH3-000.png]).`\n",
      "Extracted the following tables from the image:\n",
      "[('ifrs_gazprom/BH3-000.png', ['ifrs_gazprom/BH3-000/table-000.png'])]\n",
      "Processing tables for ifrs_gazprom/BH3-000.png.\n",
      "Processing table ifrs_gazprom/BH3-000/table-000.png.\n",
      "Extracted 36 cells from ifrs_gazprom/BH3-000/table-000.png\n",
      "Cells:\n",
      "ifrs_gazprom/BH3-000/cells/000-000.png: і ' АКТИВ\n",
      "ifrs_gazprom/BH3-000/cells/000-001.png: \" ;;Ё]Ёа `\n",
      "ifrs_gazprom/BH3-000/cells/000-002.png: \n",
      "...\n"
     ]
    }
   ],
   "source": [
    "tabl = table_ocr.demo.image_to_csv(\"ifrs_gazprom/BH3-000.png\")"
   ]
  },
  {
   "cell_type": "code",
   "execution_count": 100,
   "id": "b979664d",
   "metadata": {},
   "outputs": [
    {
     "data": {
      "text/plain": [
       "'і \\' АКТИВ,\"\"\" ;;Ё]Ёа `\",,\\r\\n,2,К,\\r\\nі ‚„материарьные аКТИВі!ВНЕС?БОРОТНЬ\\'Е ВЕ,110,110 365,119 278\\r\\n\"Ё\\\\Д::::::Ё:ЁЁ;ВТ:ОИТЭПЬОТВО 7 „—, : ййі — й——_——‘\",120,3 239 256,2 984 076\\r\\n130,725 889,1 924 579\\r\\n‚ЬОЁЁ::;Ё::;Ж:›::Ёнвс::;ірвт:›і::гяЦЁННОС…,135,28 104,1 207\\r\\n140,497 148 425,693 032 289\\r\\n145,497 100,09 355\\r\\n150,254 431,358 630\\r\\n151,66 678} 25 965\\r\\n190,57(?2 003 570[ 699 129 414\\r\\n'"
      ]
     },
     "execution_count": 100,
     "metadata": {},
     "output_type": "execute_result"
    }
   ],
   "source": [
    "tabl"
   ]
  },
  {
   "cell_type": "code",
   "execution_count": 94,
   "id": "fb3d7dce",
   "metadata": {},
   "outputs": [
    {
     "data": {
      "text/html": [
       "<div>\n",
       "<style scoped>\n",
       "    .dataframe tbody tr th:only-of-type {\n",
       "        vertical-align: middle;\n",
       "    }\n",
       "\n",
       "    .dataframe tbody tr th {\n",
       "        vertical-align: top;\n",
       "    }\n",
       "\n",
       "    .dataframe thead th {\n",
       "        text-align: right;\n",
       "    }\n",
       "</style>\n",
       "<table border=\"1\" class=\"dataframe\">\n",
       "  <thead>\n",
       "    <tr style=\"text-align: right;\">\n",
       "      <th></th>\n",
       "      <th>0</th>\n",
       "      <th>1</th>\n",
       "      <th>2</th>\n",
       "    </tr>\n",
       "  </thead>\n",
       "  <tbody>\n",
       "    <tr>\n",
       "      <th>0</th>\n",
       "      <td>910</td>\n",
       "      <td>674845</td>\n",
       "      <td>1175619</td>\n",
       "    </tr>\n",
       "    <tr>\n",
       "      <th>1</th>\n",
       "      <td>911</td>\n",
       "      <td></td>\n",
       "      <td></td>\n",
       "    </tr>\n",
       "    <tr>\n",
       "      <th>2</th>\n",
       "      <td>915</td>\n",
       "      <td></td>\n",
       "      <td></td>\n",
       "    </tr>\n",
       "    <tr>\n",
       "      <th>3</th>\n",
       "      <td>920</td>\n",
       "      <td></td>\n",
       "      <td></td>\n",
       "    </tr>\n",
       "    <tr>\n",
       "      <th>4</th>\n",
       "      <td>930</td>\n",
       "      <td>8619982</td>\n",
       "      <td>918199</td>\n",
       "    </tr>\n",
       "    <tr>\n",
       "      <th>5</th>\n",
       "      <td>940</td>\n",
       "      <td>425955</td>\n",
       "      <td>453513</td>\n",
       "    </tr>\n",
       "    <tr>\n",
       "      <th>6</th>\n",
       "      <td>950</td>\n",
       "      <td>1794718</td>\n",
       "      <td>1272366</td>\n",
       "    </tr>\n",
       "    <tr>\n",
       "      <th>7</th>\n",
       "      <td>960</td>\n",
       "      <td>270721619</td>\n",
       "      <td>178732348</td>\n",
       "    </tr>\n",
       "    <tr>\n",
       "      <th>8</th>\n",
       "      <td>970</td>\n",
       "      <td>66</td>\n",
       "      <td>3</td>\n",
       "    </tr>\n",
       "    <tr>\n",
       "      <th>9</th>\n",
       "      <td>980</td>\n",
       "      <td></td>\n",
       "      <td></td>\n",
       "    </tr>\n",
       "    <tr>\n",
       "      <th>10</th>\n",
       "      <td>990</td>\n",
       "      <td>235744</td>\n",
       "      <td>904538</td>\n",
       "    </tr>\n",
       "    <tr>\n",
       "      <th>11</th>\n",
       "      <td>1000</td>\n",
       "      <td></td>\n",
       "      <td></td>\n",
       "    </tr>\n",
       "    <tr>\n",
       "      <th>12</th>\n",
       "      <td>1100</td>\n",
       "      <td>27</td>\n",
       "      <td>2</td>\n",
       "    </tr>\n",
       "    <tr>\n",
       "      <th>13</th>\n",
       "      <td>1200</td>\n",
       "      <td></td>\n",
       "      <td></td>\n",
       "    </tr>\n",
       "  </tbody>\n",
       "</table>\n",
       "</div>"
      ],
      "text/plain": [
       "       0          1          2\n",
       "0    910     674845    1175619\n",
       "1    911                      \n",
       "2    915                      \n",
       "3    920                      \n",
       "4    930    8619982     918199\n",
       "5    940     425955     453513\n",
       "6    950    1794718    1272366\n",
       "7    960  270721619  178732348\n",
       "8    970         66          3\n",
       "9    980                      \n",
       "10   990     235744     904538\n",
       "11  1000                      \n",
       "12  1100         27          2\n",
       "13  1200                      "
      ]
     },
     "execution_count": 94,
     "metadata": {},
     "output_type": "execute_result"
    }
   ],
   "source": [
    "# tabl = table_ocr.demo.image_to_csv(\"ifrs_gazprom/BH3-001.png\")\n",
    "df = pd.DataFrame(int_converter(csv_cleaner(tabl)))\n",
    "df"
   ]
  },
  {
   "cell_type": "code",
   "execution_count": 85,
   "id": "46f323b3",
   "metadata": {},
   "outputs": [
    {
     "data": {
      "text/plain": [
       "[['110', '110 365', '119 278'],\n",
       " ['120', '3 239 256', '2 984 076'],\n",
       " ['130', '725 889', '1 924 579'],\n",
       " ['135', '28 104', '1 207'],\n",
       " ['140', '497 148 425', '693 032 289'],\n",
       " ['145', '497 100', '09 355'],\n",
       " ['150', '254 431', '358 630'],\n",
       " ['151', '66 678} 25 965'],\n",
       " ['190', '57(?2 003 570[ 699 129 414']]"
      ]
     },
     "execution_count": 85,
     "metadata": {},
     "output_type": "execute_result"
    }
   ],
   "source": [
    "csv_cleaner(tabl)"
   ]
  },
  {
   "cell_type": "code",
   "execution_count": 57,
   "id": "2119e769",
   "metadata": {},
   "outputs": [
    {
     "data": {
      "text/plain": [
       "['Пояснения,н::і:оваиие,код,За январь - март 2012 г,За январь - март 2011 г',\n",
       " ',2,,',\n",
       " 'Доходы от участия в других организациях,2310,67 313 666,26 121 114',\n",
       " 'Проценты к получению,2320,9139 961,6 997 262',\n",
       " 'Зроценты к уплате.,2330,( 6433 803 ),( 4 287 163 )',\n",
       " 'Прочие доходь,2340,1865 587,432 807',\n",
       " 'Прочие расходы,2350,(39 725 759 ),( 17 578 926 )',\n",
       " 'Прибыль (убыток) до налогообложения,2300,34 466 530,13 621 721',\n",
       " 'Текущий налог на прибыль,2410,6 263 702,',\n",
       " 'в том числе постоянные налоговые обязательства (активь,2421,222 497,147 351',\n",
       " 'Изменения отложенных налоговых обязательств.,2430,(2527 ),( 20 011 )',\n",
       " 'Изменения отложенных налоговых активов,2450,85 756,2372 538',\n",
       " ',Прочее.,2460,,',\n",
       " \"жгз:ж:::':жвиа прибыль внутри консолидированной,2465,(6 357 108 ),\",\n",
       " 'Чистая прибыль (убыток),2400,34 456 353,15 974 248',\n",
       " ',2510,,-',\n",
       " '\"ЁЁЁЁЩ :рти.;::‹и›‹ операций, не включаемый в чистую прибыль:\",2520,-,',\n",
       " 'Совокупный финансовый результат периода,2500,34 456 353,15 974 248',\n",
       " 'зазовая поибыль (М!,2900,,',\n",
       " 'Разводненная прибыль (убыток) на акцию,2910,,',\n",
       " '']"
      ]
     },
     "execution_count": 57,
     "metadata": {},
     "output_type": "execute_result"
    }
   ],
   "source": [
    "tabl.split(\"\\r\\n\")"
   ]
  },
  {
   "cell_type": "code",
   "execution_count": null,
   "id": "70aeb131",
   "metadata": {},
   "outputs": [],
   "source": []
  }
 ],
 "metadata": {
  "kernelspec": {
   "display_name": "Python 3",
   "language": "python",
   "name": "python3"
  },
  "language_info": {
   "codemirror_mode": {
    "name": "ipython",
    "version": 3
   },
   "file_extension": ".py",
   "mimetype": "text/x-python",
   "name": "python",
   "nbconvert_exporter": "python",
   "pygments_lexer": "ipython3",
   "version": "3.8.8"
  }
 },
 "nbformat": 4,
 "nbformat_minor": 5
}
