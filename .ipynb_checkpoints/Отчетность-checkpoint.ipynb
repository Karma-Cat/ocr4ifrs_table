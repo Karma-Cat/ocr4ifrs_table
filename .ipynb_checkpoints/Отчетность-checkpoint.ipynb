{
 "cells": [
  {
   "cell_type": "code",
   "execution_count": 177,
   "id": "e613c7d0",
   "metadata": {},
   "outputs": [],
   "source": [
    "import pandas as pd\n",
    "import re\n",
    "import requests\n",
    "from bs4 import BeautifulSoup"
   ]
  },
  {
   "cell_type": "code",
   "execution_count": 178,
   "id": "6cb3bb1b",
   "metadata": {},
   "outputs": [],
   "source": [
    "from pytesseract import image_to_string\n",
    "from PIL import Image\n",
    "\n",
    "from tqdm import tqdm\n",
    "\n",
    "from pdf2image import convert_from_path, convert_from_bytes\n",
    "import PyPDF2\n",
    "import matplotlib.pyplot as plt"
   ]
  },
  {
   "cell_type": "code",
   "execution_count": 209,
   "id": "d10ae76d",
   "metadata": {},
   "outputs": [],
   "source": [
    "company = \"gazprom\"\n",
    "comp_link = \"https://www.gazprom.ru\"\n",
    "start = 2010\n",
    "end = 2022\n",
    "\n",
    "keywords = [\"онсолидированный\\ {1,3}[бухгалтерский]+\\ {1,3}балан\", \"актив\", \"обязательств\", \"капитал\", \"итог\", \"([г]{0,1}лавны[й]{0,1}||правлени[я]{0,1}|[п]{0,1}редседател[ь]{0,1})\"]"
   ]
  },
  {
   "cell_type": "code",
   "execution_count": 180,
   "id": "5e39b40c",
   "metadata": {},
   "outputs": [],
   "source": [
    "def link_generator(comp_link, company, start, end):\n",
    "    links_dict = {}\n",
    "    years_range = [i for i in range(start,end)]\n",
    "    for i in years_range:\n",
    "        link = comp_link + \"/investors/disclosure/reports/\" +  str(i) + \"/\"\n",
    "        filename = f'ifrs_gazprom/{company}_{i}'\n",
    "        links_dict[i] = [link,filename]\n",
    "    \n",
    "    return links_dict"
   ]
  },
  {
   "cell_type": "code",
   "execution_count": 181,
   "id": "32cf70d1",
   "metadata": {},
   "outputs": [],
   "source": [
    "def link_extracktor(link):\n",
    "    response = requests.get(link)\n",
    "    soup = BeautifulSoup(response.text)\n",
    "    hrefs = soup.find_all('a', attrs={'class' : 'with-icon'}, href = True)\n",
    "    for i in hrefs:\n",
    "        res = re.findall(\"href=\\\"([0-9\\/a-zA-z.\\-\\_\\(\\)]{10,})\\\".{5,30}Консолидированная финансовая\", str(i))\n",
    "        if res:\n",
    "            return res\n",
    "        else:\n",
    "            pass\n",
    "    return \"\""
   ]
  },
  {
   "cell_type": "code",
   "execution_count": 182,
   "id": "32eb8aff",
   "metadata": {},
   "outputs": [],
   "source": [
    "def download_pdf(url, filename):\n",
    "    try:\n",
    "        response = requests.get(url)\n",
    "        response.raise_for_status() \n",
    "        \n",
    "        filename = filename + \".pdf\"\n",
    "        \n",
    "        with open(filename, 'wb') as f:\n",
    "            f.write(response.content)\n",
    "        print(f\"PDF успешно сохранен в {filename}\")\n",
    "    except requests.RequestException as e:\n",
    "        print(f\"Ошибка при скачивании PDF: {e}\")"
   ]
  },
  {
   "cell_type": "code",
   "execution_count": 183,
   "id": "c3348da9",
   "metadata": {},
   "outputs": [],
   "source": [
    "# Обработка pdf и выделение из него отчета с \"Консолидированный бухгалтерский баланс\"\n",
    "def extract_text_from_image(image, filename, keywords):\n",
    "    \n",
    "    break_outer_loop = False  # флаг для прерывания обоих циклов\n",
    "\n",
    "    for i in image[2:13]:\n",
    "        if break_outer_loop:\n",
    "            break\n",
    "        text = image_to_string(i, lang='rus')\n",
    "        if all(re.search(keyword, text.lower()) for keyword in keywords):\n",
    "            break_outer_loop = True\n",
    "            i.save(filename + \".png\")\n",
    "            return text\n",
    "    return \"\"\n",
    "\n",
    "def extract_text_from_pdf(pdf_path, filename, keywords):\n",
    "    text = \"\"\n",
    "    try:\n",
    "        pdf_file = open(pdf_path, 'rb')\n",
    "        pdf_reader = PyPDF2.PdfReader(pdf_file)\n",
    "\n",
    "        # Получение количества страниц в PDF\n",
    "        num_pages = len(pdf_reader.pages)\n",
    "\n",
    "        # Итерация по каждой странице\n",
    "        for page_num in range(num_pages):\n",
    "            page = pdf_reader.pages[page_num]\n",
    "            text = page.extract_text()\n",
    "            # Проверка наличия искомого текста на страниц\n",
    "            if all(re.search(keyword, text.lower()) for keyword in keywords):\n",
    "                image = convert_from_path(pdf_path, first_page = page_num + 1, last_page = page_num + 1)\n",
    "                image[0].save(filename + \".png\")\n",
    "                return text\n",
    "    except Exception as e:\n",
    "        print(f\"An error occurred: {e}\")\n",
    "    finally:\n",
    "        pdf_file.close()\n",
    "    return \"\""
   ]
  },
  {
   "cell_type": "code",
   "execution_count": 184,
   "id": "10a1121d",
   "metadata": {},
   "outputs": [],
   "source": [
    "def nomination_cheker(text):\n",
    "    unit = re.findall(\"\\(в\\ ([а-я ]{20,30})\\)\", text)\n",
    "    if re.search(\"(мил[а-я]{1,3}она)\", unit[0]):\n",
    "        unit = 1\n",
    "    elif re.search(\"(мил[а-я]{1,3}арда)\", unit[0]):\n",
    "        unit = 1000\n",
    "    return int(unit)"
   ]
  },
  {
   "cell_type": "code",
   "execution_count": 185,
   "id": "c7f854c7",
   "metadata": {},
   "outputs": [],
   "source": [
    "# Обрезает текст до нужных строк, все ненужные строки выкидыват\n",
    "def lines_extractor(text):\n",
    "    \n",
    "    unit = nomination_cheker(text)\n",
    "    \n",
    "    text = text.lower()\n",
    "    \n",
    "    if text:\n",
    "        \n",
    "        lines = text.split('\\n')\n",
    "        \n",
    "        for i in range(len(lines)):\n",
    "            line = lines[0]\n",
    "            if re.search(\"[Аа]ктив[ы]+\", line):\n",
    "                break\n",
    "            else:\n",
    "                lines.pop(0)\n",
    "        \n",
    "        for i in range(len(lines)):\n",
    "            k = len(lines)\n",
    "            line = lines[k-1]\n",
    "            if re.search(\"^ {0,2}итого\", line):\n",
    "                break\n",
    "            lines.pop(k-1)\n",
    "\n",
    "        return lines, unit\n",
    "    \n",
    "    return [], []"
   ]
  },
  {
   "cell_type": "code",
   "execution_count": 186,
   "id": "072e5091",
   "metadata": {},
   "outputs": [],
   "source": [
    "from itertools import combinations\n",
    "\n",
    "def find_combinations(s, unit):\n",
    "    s = s.strip()\n",
    "    if not any(c.isspace() for c in s):\n",
    "        return [0, int(s)*unit]\n",
    "    \n",
    "    s = s.replace(\" \", \"\")\n",
    "    \n",
    "    # Кейс с отрицательными числами\n",
    "    if '(' in s and ')' in s:\n",
    "        parts = s.split(')(')\n",
    "        return [-int(part.replace('(', '').replace(')', ''))*unit for part in parts]\n",
    "\n",
    "    # Кейс с дефисами\n",
    "    if '-' in s:\n",
    "        parts = s.split(\"-\")\n",
    "        return [int(part)*unit if part else 0 for part in parts]\n",
    "    \n",
    "    # Кейс с возможными комбинациями\n",
    "    all_combinations = []\n",
    "    for i in range(1, len(s)):\n",
    "        first_num = int(s[:i])\n",
    "        second_num = int(s[i:])\n",
    "        if max(first_num, second_num) <= 10 * min(first_num, second_num):\n",
    "            return [first_num*unit, second_num*unit]\n",
    "        all_combinations.append([first_num, second_num])\n",
    "\n",
    "    return all_combinations[0] if all_combinations else [int(s)]"
   ]
  },
  {
   "cell_type": "code",
   "execution_count": 187,
   "id": "c05a7f28",
   "metadata": {},
   "outputs": [],
   "source": [
    "def remove_leading_symbols(s):\n",
    "    \n",
    "    s = s.strip()\n",
    "    # Удалить две цифры в начале, если они есть\n",
    "    s = re.sub(r'^\\d{1,2}\\ ', '', s)\n",
    "    # Удалить две буквы в начале, если они есть\n",
    "    s = re.sub(r'^[a-zA-Zа-яА-Я]{1,2}\\ ', '', s)\n",
    "    \n",
    "    s = s.strip()\n",
    "    s = s.strip(\"\\\"\")\n",
    "    return s\n",
    "\n",
    "def dict_packer(lines, unit):\n",
    "    \n",
    "    keywords = [\"актив\", \"обязательств\", \"капита\"]\n",
    "    \n",
    "    result = {}\n",
    "    current_section = None\n",
    "    current_subsection = None\n",
    "\n",
    "    k = 0\n",
    "\n",
    "    for line in lines:\n",
    "        if all(c.isalpha() or c.isspace() for c in line) and any(keyword in line for keyword in keywords):\n",
    "            current_subsection = line.strip()\n",
    "\n",
    "        elif any(c.isalpha() for c in line) and any(c.isdigit() for c in line):\n",
    "            k = 0\n",
    "            parts = re.findall(\"^(.{1,}?) ([0-9\\\\ \\-\\(\\)]+)$\", line)\n",
    "            if parts:\n",
    "                key, value = parts[0]\n",
    "                key = remove_leading_symbols(key)\n",
    "                values = find_combinations(value, unit)\n",
    "                result[key] = values\n",
    "        elif all(c.isdigit() or c.isspace() or c == '-' for c in line):\n",
    "            result[f'итого {current_subsection}'] = find_combinations(line, unit)\n",
    "        else:\n",
    "            print(line)\n",
    "    return result"
   ]
  },
  {
   "cell_type": "code",
   "execution_count": 188,
   "id": "b593137c",
   "metadata": {},
   "outputs": [],
   "source": [
    "def csv_writer(result, filename, years):\n",
    "    df = pd.DataFrame(result)\n",
    "    df = df.T\n",
    "    df.columns = years\n",
    "    df.to_csv(filename+\".csv\")\n",
    "    print(f\"csv успешно сохранен в {filename}\")"
   ]
  },
  {
   "cell_type": "code",
   "execution_count": 211,
   "id": "8b0b0e14",
   "metadata": {},
   "outputs": [
    {
     "name": "stderr",
     "output_type": "stream",
     "text": [
      "\r",
      "  0%|          | 0/3 [00:00<?, ?it/s]"
     ]
    },
    {
     "name": "stdout",
     "output_type": "stream",
     "text": [
      "PDF успешно сохранен в ifrs_gazprom/gazprom_2019.pdf\n"
     ]
    },
    {
     "name": "stderr",
     "output_type": "stream",
     "text": [
      "\r",
      " 33%|███▎      | 1/3 [00:33<01:07, 33.58s/it]"
     ]
    },
    {
     "name": "stdout",
     "output_type": "stream",
     "text": [
      "краткосрочные кредиты и займы, векселя к уплате и текущая часть\n",
      "csv успешно сохранен в ifrs_gazprom/gazprom_2019\n",
      "PDF успешно сохранен в ifrs_gazprom/gazprom_2020.pdf\n"
     ]
    },
    {
     "name": "stderr",
     "output_type": "stream",
     "text": [
      "\r",
      " 67%|██████▋   | 2/3 [01:08<00:34, 34.30s/it]"
     ]
    },
    {
     "name": "stdout",
     "output_type": "stream",
     "text": [
      "краткосрочные кредиты и займы, векселя к уплате и текущая часть\n",
      "csv успешно сохранен в ifrs_gazprom/gazprom_2020\n",
      "PDF успешно сохранен в ifrs_gazprom/gazprom_2021.pdf\n"
     ]
    },
    {
     "name": "stderr",
     "output_type": "stream",
     "text": [
      "100%|██████████| 3/3 [01:42<00:00, 34.15s/it]"
     ]
    },
    {
     "name": "stdout",
     "output_type": "stream",
     "text": [
      "краткосрочные кредиты и займы, векселя к уплате и текущая часть\n",
      "csv успешно сохранен в ifrs_gazprom/gazprom_2021\n"
     ]
    },
    {
     "name": "stderr",
     "output_type": "stream",
     "text": [
      "\n"
     ]
    }
   ],
   "source": [
    "links_dict = link_generator(comp_link, company, start, end)\n",
    "\n",
    "for i in tqdm(range(2019,end)):\n",
    "    url = links_dict[i][0]\n",
    "    filename = links_dict[i][1]\n",
    "    url = link_extracktor(url)\n",
    "    if url:\n",
    "        url = comp_link + url[0]\n",
    "        download_pdf(url, filename)\n",
    "        pdf_path = filename + \".pdf\"\n",
    "        text = extract_text_from_pdf(pdf_path, filename, keywords)\n",
    "        if not text:\n",
    "            image = convert_from_path(pdf_path)\n",
    "            text = extract_text_from_image(image, filename, keywords)\n",
    "        if not text:\n",
    "            pass\n",
    "        lines, unit = lines_extractor(text)\n",
    "        result = dict_packer(lines, unit)\n",
    "        years = [str(i),str(i-1)]\n",
    "        if result:\n",
    "            csv_writer(result, filename, years)\n",
    "        else:\n",
    "            pass\n",
    "    else:\n",
    "        print(f\"No link {url}\")\n",
    "        pass"
   ]
  },
  {
   "cell_type": "code",
   "execution_count": null,
   "id": "f47b32d9",
   "metadata": {},
   "outputs": [],
   "source": []
  }
 ],
 "metadata": {
  "kernelspec": {
   "display_name": "Python 3",
   "language": "python",
   "name": "python3"
  },
  "language_info": {
   "codemirror_mode": {
    "name": "ipython",
    "version": 3
   },
   "file_extension": ".py",
   "mimetype": "text/x-python",
   "name": "python",
   "nbconvert_exporter": "python",
   "pygments_lexer": "ipython3",
   "version": "3.8.8"
  }
 },
 "nbformat": 4,
 "nbformat_minor": 5
}
