{
 "cells": [
  {
   "cell_type": "code",
   "execution_count": 1,
   "id": "eca86630",
   "metadata": {},
   "outputs": [
    {
     "name": "stdout",
     "output_type": "stream",
     "text": [
      "Collecting table_ocr\n",
      "  Downloading table_ocr-0.2.5-py3-none-any.whl (33.4 MB)\n",
      "\u001b[K     |████████████████████████████████| 33.4 MB 38.5 MB/s eta 0:00:01\n",
      "\u001b[?25hCollecting opencv-python~=4.2\n",
      "  Downloading opencv_python-4.8.0.76-cp37-abi3-macosx_10_16_x86_64.whl (54.7 MB)\n",
      "\u001b[K     |████████████████████████████████| 54.7 MB 20.3 MB/s eta 0:00:01\n",
      "\u001b[?25hRequirement already satisfied: pytesseract~=0.3 in ./opt/anaconda3/lib/python3.8/site-packages (from table_ocr) (0.3.10)\n",
      "Requirement already satisfied: numpy~=1.19 in ./opt/anaconda3/lib/python3.8/site-packages (from table_ocr) (1.20.1)\n",
      "Requirement already satisfied: requests>=2 in ./opt/anaconda3/lib/python3.8/site-packages (from table_ocr) (2.25.1)\n",
      "Requirement already satisfied: packaging>=21.3 in ./opt/anaconda3/lib/python3.8/site-packages (from pytesseract~=0.3->table_ocr) (23.1)\n",
      "Requirement already satisfied: Pillow>=8.0.0 in ./opt/anaconda3/lib/python3.8/site-packages (from pytesseract~=0.3->table_ocr) (8.2.0)\n",
      "Requirement already satisfied: idna<3,>=2.5 in ./opt/anaconda3/lib/python3.8/site-packages (from requests>=2->table_ocr) (2.10)\n",
      "Requirement already satisfied: urllib3<1.27,>=1.21.1 in ./opt/anaconda3/lib/python3.8/site-packages (from requests>=2->table_ocr) (1.26.14)\n",
      "Requirement already satisfied: chardet<5,>=3.0.2 in ./opt/anaconda3/lib/python3.8/site-packages (from requests>=2->table_ocr) (4.0.0)\n",
      "Requirement already satisfied: certifi>=2017.4.17 in ./opt/anaconda3/lib/python3.8/site-packages (from requests>=2->table_ocr) (2022.12.7)\n",
      "Installing collected packages: opencv-python, table-ocr\n",
      "Successfully installed opencv-python-4.8.0.76 table-ocr-0.2.5\n"
     ]
    }
   ],
   "source": [
    "# !pip3 install table_ocr"
   ]
  },
  {
   "cell_type": "code",
   "execution_count": 16,
   "id": "ce1c896a",
   "metadata": {},
   "outputs": [
    {
     "name": "stdout",
     "output_type": "stream",
     "text": [
      "Running `extract_tables.main([/var/folders/lt/sr0_bwz17lb6_5z_6jb540p80000gp/T/demo_7enrrpmm/pao-magnit_1.cjliyebhn8j0.png]).`\n",
      "Extracted the following tables from the image:\n",
      "[('/var/folders/lt/sr0_bwz17lb6_5z_6jb540p80000gp/T/demo_7enrrpmm/pao-magnit_1.cjliyebhn8j0.png', ['/var/folders/lt/sr0_bwz17lb6_5z_6jb540p80000gp/T/demo_7enrrpmm/pao-magnit_1.cjliyebhn8j0/table-000.png'])]\n",
      "Processing tables for /var/folders/lt/sr0_bwz17lb6_5z_6jb540p80000gp/T/demo_7enrrpmm/pao-magnit_1.cjliyebhn8j0.png.\n",
      "Processing table /var/folders/lt/sr0_bwz17lb6_5z_6jb540p80000gp/T/demo_7enrrpmm/pao-magnit_1.cjliyebhn8j0/table-000.png.\n",
      "Extracted 114 cells from /var/folders/lt/sr0_bwz17lb6_5z_6jb540p80000gp/T/demo_7enrrpmm/pao-magnit_1.cjliyebhn8j0/table-000.png\n",
      "Cells:\n",
      "/var/folders/lt/sr0_bwz17lb6_5z_6jb540p80000gp/T/demo_7enrrpmm/pao-magnit_1.cjliyebhn8j0/cells/000-000.png: е\n",
      "/var/folders/lt/sr0_bwz17lb6_5z_6jb540p80000gp/T/demo_7enrrpmm/pao-magnit_1.cjliyebhn8j0/cells/000-001.png: Наименование показателя *\n",
      "/var/folders/lt/sr0_bwz17lb6_5z_6jb540p80000gp/T/demo_7enrrpmm/pao-magnit_1.cjliyebhn8j0/cells/000-002.png: Код\n",
      "...\n",
      "\n",
      "Here is the entire CSV output:\n",
      "\n",
      "е,Наименование показателя *,Код,ЕВ,На2Ё1 Ёе кагб-‘ря,На2і; 11аекаб:чёя\n",
      ",,1110,(,0,о)\n",
      ",Результаты исследований и разработок,1120,(0,0,0\n",
      ",Нематериальные поисковые активы,1130,о),0,0\n",
      ",Материальные поисковые активы,1140,(,0,0\n",
      ",Основные средства,1150,750 428,789 603,831 223\n",
      ",ЕЁЁ:ЁЁГ вложения в материальные,1160,0,(0,о]\n",
      ",Финансовые вложения,1170,111 545 343,92 277 442,55 893 042\n",
      ",Отложенные налоговые активы,1180,0,0,0\n",
      ",рочие внеоборотные активь,1190,2 906,2 236,1 724\n",
      ",Итого по разделу |,1100,112 298 677,93 069 281,56 725 989\n",
      ",а ачасы . ОБОРОТНЫЕ /#КЁИВЫ,1210,58,39,54\n",
      ",ЕНОа,1220,0,0,14\n",
      ",Дебиторская задолженность,1230,12 905 213,15 288 413,17 308 335\n",
      ",данежннкаввален,1240,1 022 472,22 591 639,18 697 269\n",
      ",Ё[Кеві›:дев›с;:!::.гі;гедсгва и денежные,1250,289,145,274\n",
      ",Прочие оборотные активь,1260,24,40,42\n",
      ",Итого по разделу ||,1200,13 928 056,37 880 276,36 005 988\n",
      ",БАЛАНС,1600,126 226 733,130 949 557,92 731 977\n",
      "\n"
     ]
    }
   ],
   "source": [
    "!python3 -m table_ocr.demo https://img-cdn.tinkoffjournal.ru/pao-magnit_1.cjliyebhn8j0.png"
   ]
  },
  {
   "cell_type": "code",
   "execution_count": 26,
   "id": "89268d9f",
   "metadata": {},
   "outputs": [
    {
     "ename": "TypeError",
     "evalue": "'module' object is not callable",
     "output_type": "error",
     "traceback": [
      "\u001b[0;31m---------------------------------------------------------------------------\u001b[0m",
      "\u001b[0;31mTypeError\u001b[0m                                 Traceback (most recent call last)",
      "\u001b[0;32m<ipython-input-26-0beff00ea695>\u001b[0m in \u001b[0;36m<module>\u001b[0;34m\u001b[0m\n\u001b[1;32m      1\u001b[0m \u001b[0;32mimport\u001b[0m \u001b[0mtable_ocr\u001b[0m\u001b[0;34m.\u001b[0m\u001b[0mdemo\u001b[0m\u001b[0;34m\u001b[0m\u001b[0;34m\u001b[0m\u001b[0m\n\u001b[0;32m----> 2\u001b[0;31m \u001b[0mtable_ocr\u001b[0m\u001b[0;34m.\u001b[0m\u001b[0mdemo\u001b[0m\u001b[0;34m(\u001b[0m\u001b[0;34m\"https://img-cdn.tinkoffjournal.ru/pao-magnit_1.cjliyebhn8j0.png\"\u001b[0m\u001b[0;34m)\u001b[0m\u001b[0;34m\u001b[0m\u001b[0;34m\u001b[0m\u001b[0m\n\u001b[0m",
      "\u001b[0;31mTypeError\u001b[0m: 'module' object is not callable"
     ]
    }
   ],
   "source": [
    "import table_ocr.demo\n",
    "table_ocr.demo(\"https://img-cdn.tinkoffjournal.ru/pao-magnit_1.cjliyebhn8j0.png\")"
   ]
  },
  {
   "cell_type": "code",
   "execution_count": 27,
   "id": "f0504982",
   "metadata": {},
   "outputs": [
    {
     "data": {
      "text/plain": [
       "['__builtins__',\n",
       " '__cached__',\n",
       " '__doc__',\n",
       " '__file__',\n",
       " '__loader__',\n",
       " '__name__',\n",
       " '__package__',\n",
       " '__path__',\n",
       " '__spec__',\n",
       " 'demo']"
      ]
     },
     "execution_count": 27,
     "metadata": {},
     "output_type": "execute_result"
    }
   ],
   "source": [
    "dir(table_ocr)"
   ]
  },
  {
   "cell_type": "code",
   "execution_count": null,
   "id": "62ce9c92",
   "metadata": {},
   "outputs": [],
   "source": []
  }
 ],
 "metadata": {
  "kernelspec": {
   "display_name": "Python 3",
   "language": "python",
   "name": "python3"
  },
  "language_info": {
   "codemirror_mode": {
    "name": "ipython",
    "version": 3
   },
   "file_extension": ".py",
   "mimetype": "text/x-python",
   "name": "python",
   "nbconvert_exporter": "python",
   "pygments_lexer": "ipython3",
   "version": "3.8.8"
  }
 },
 "nbformat": 4,
 "nbformat_minor": 5
}
